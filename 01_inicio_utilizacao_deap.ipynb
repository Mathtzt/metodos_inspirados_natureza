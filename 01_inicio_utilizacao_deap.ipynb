{
  "nbformat": 4,
  "nbformat_minor": 0,
  "metadata": {
    "colab": {
      "provenance": [],
      "authorship_tag": "ABX9TyPvuskCbKs9CWWPrQwE5tK7"
    },
    "kernelspec": {
      "name": "python3",
      "display_name": "Python 3"
    },
    "language_info": {
      "name": "python"
    }
  },
  "cells": [
    {
      "cell_type": "markdown",
      "source": [
        "### Instalações"
      ],
      "metadata": {
        "id": "KXluK045xMMi"
      }
    },
    {
      "cell_type": "code",
      "execution_count": 2,
      "metadata": {
        "id": "FDq9RSY7-U8_",
        "colab": {
          "base_uri": "https://localhost:8080/",
          "height": 0
        },
        "outputId": "6eaa8c48-9aa6-47f2-83f0-69c7b681ac34"
      },
      "outputs": [
        {
          "output_type": "stream",
          "name": "stdout",
          "text": [
            "\u001b[?25l     \u001b[90m━━━━━━━━━━━━━━━━━━━━━━━━━━━━━━━━━━━━━━━━\u001b[0m \u001b[32m0.0/135.4 kB\u001b[0m \u001b[31m?\u001b[0m eta \u001b[36m-:--:--\u001b[0m\r\u001b[2K     \u001b[91m━━━━━━━━━━━━━━━━━━━━━\u001b[0m\u001b[90m╺\u001b[0m\u001b[90m━━━━━━━━━━━━━━━━━━\u001b[0m \u001b[32m71.7/135.4 kB\u001b[0m \u001b[31m2.0 MB/s\u001b[0m eta \u001b[36m0:00:01\u001b[0m\r\u001b[2K     \u001b[91m━━━━━━━━━━━━━━━━━━━━━━━━━━━━━━━━━━━━━━\u001b[0m\u001b[90m╺\u001b[0m \u001b[32m133.1/135.4 kB\u001b[0m \u001b[31m2.6 MB/s\u001b[0m eta \u001b[36m0:00:01\u001b[0m\r\u001b[2K     \u001b[90m━━━━━━━━━━━━━━━━━━━━━━━━━━━━━━━━━━━━━━━\u001b[0m \u001b[32m135.4/135.4 kB\u001b[0m \u001b[31m1.5 MB/s\u001b[0m eta \u001b[36m0:00:00\u001b[0m\n",
            "\u001b[?25h"
          ]
        }
      ],
      "source": [
        "## Instalação da biblioteca\n",
        "!pip install -q deap"
      ]
    },
    {
      "cell_type": "markdown",
      "source": [
        "### Bibliotecas"
      ],
      "metadata": {
        "id": "esF954xExPj5"
      }
    },
    {
      "cell_type": "code",
      "source": [
        "## Importando bibliotecas necessárias\n",
        "from deap import base, creator, tools\n",
        "\n",
        "import random\n",
        "import matplotlib.pyplot as plt"
      ],
      "metadata": {
        "id": "WWL9LC7q-jdX"
      },
      "execution_count": 3,
      "outputs": []
    },
    {
      "cell_type": "markdown",
      "source": [
        "### Aprendendo básico do DEAP"
      ],
      "metadata": {
        "id": "syf1I9FhxBWA"
      }
    },
    {
      "cell_type": "code",
      "source": [
        "## Definindo a classe fitness\n",
        "creator.create(name = 'FitnessMax',\n",
        "               base = base.Fitness,\n",
        "               weights = (1.,))"
      ],
      "metadata": {
        "id": "JBP8NoSl-ucm"
      },
      "execution_count": 4,
      "outputs": []
    },
    {
      "cell_type": "code",
      "source": [
        "## Definindo a classe individual\n",
        "creator.create(name = 'Individual',\n",
        "               base = list,\n",
        "               fitness = creator.FitnessMax)"
      ],
      "metadata": {
        "id": "cLAaIJ3m_wg9"
      },
      "execution_count": 5,
      "outputs": []
    },
    {
      "cell_type": "code",
      "source": [
        "## Instanciando classe Toolbox\n",
        "toolbox = base.Toolbox()\n",
        "## Definindo alguns operadores genéticos\n",
        "toolbox.register(alias = 'select',\n",
        "                 function = tools.selTournament,\n",
        "                 tournsize = 3)\n",
        "\n",
        "toolbox.register(alias = 'mate',\n",
        "                 function = tools.cxTwoPoint) # executar o crossover de dois pontos\n",
        "\n",
        "toolbox.register(alias = 'mutate',\n",
        "                 function = tools.mutFlipBit, # inversão de bit na mutação\n",
        "                 indpb = .02) # probabilidade"
      ],
      "metadata": {
        "id": "YHW-dcVGAjd9"
      },
      "execution_count": 6,
      "outputs": []
    },
    {
      "cell_type": "markdown",
      "source": [
        "**Alguns dos operadores implementados**\n",
        "\n",
        "1. Funções de seleção. Podem ser encontradas no arquivo `selection.py`.\n",
        "\n",
        "* selRoulette() - implements roulette wheel selection.\n",
        "* selStochasticUniversalSampling() - implements Stochastic Universal\n",
        "Sampling (SUS).\n",
        "* selTournament() - implements tournament selection.\n",
        "\n",
        "2. Funções de crossover. Podem ser encontradas no arquivo `crossover.py`:\n",
        "\n",
        "* cxOnePoint() - implements single-point crossover.\n",
        "* cxUniform() - implements uniform crossover.\n",
        "* cxOrdered() - implements ordered crossover (OX1).\n",
        "* cxPartialyMatched() - implements partially matched crossover (PMX).\n",
        "\n",
        "3. Funções de mutação. Podem ser encontradas no arquivo `mutation.py`:\n",
        "\n",
        "* mutFlipBit() - implements flip bit mutation.\n",
        "* mutGaussian() - implements normally distributed mutation."
      ],
      "metadata": {
        "id": "5cnYEZSvDewp"
      }
    },
    {
      "cell_type": "code",
      "source": [
        "## Criando a população\n",
        "# exemplo da criação de 10 números aleatórios entre [0,1]\n",
        "random_list_ex1 = tools.initRepeat(container = list,\n",
        "                                   func = random.random,\n",
        "                                   n = 10)\n",
        "random_list_ex1"
      ],
      "metadata": {
        "colab": {
          "base_uri": "https://localhost:8080/",
          "height": 0
        },
        "id": "_ZTk1wtnCBDP",
        "outputId": "72d8d01f-9e71-421f-a43c-db57acdffaa5"
      },
      "execution_count": 7,
      "outputs": [
        {
          "output_type": "execute_result",
          "data": {
            "text/plain": [
              "[0.7196288070812469,\n",
              " 0.4891382496078841,\n",
              " 0.26065594580666407,\n",
              " 0.405864050230748,\n",
              " 0.49770733042258997,\n",
              " 0.1553723299949188,\n",
              " 0.00305941668362808,\n",
              " 0.9377669722072647,\n",
              " 0.890943204249836,\n",
              " 0.8009700481315459]"
            ]
          },
          "metadata": {},
          "execution_count": 7
        }
      ]
    },
    {
      "cell_type": "code",
      "source": [
        "# exemplo da criação de uma função que será utilizada na execução da função `initRepeat`.\n",
        "# Nesse caso, será utilizado uma função para geração aleatória de números inteiros\n",
        "\n",
        "# Modo 1:\n",
        "def zero_or_one():\n",
        "  return random.randint(0, 1)\n",
        "\n",
        "random_list_ex2 = tools.initRepeat(container = list,\n",
        "                                   func = zero_or_one,\n",
        "                                   n = 10)\n",
        "random_list_ex2"
      ],
      "metadata": {
        "colab": {
          "base_uri": "https://localhost:8080/",
          "height": 0
        },
        "id": "kA0UlFq5FaRQ",
        "outputId": "6f1bea2b-67f6-489a-ab74-295c56405fc7"
      },
      "execution_count": 8,
      "outputs": [
        {
          "output_type": "execute_result",
          "data": {
            "text/plain": [
              "[1, 0, 1, 0, 1, 0, 0, 0, 0, 0]"
            ]
          },
          "metadata": {},
          "execution_count": 8
        }
      ]
    },
    {
      "cell_type": "code",
      "source": [
        "# Modo 2\n",
        "toolbox.register(alias = 'zeroOrOne',\n",
        "                 function = random.randint,\n",
        "                 a = 0, b = 1) # parametros da função randint\n",
        "\n",
        "random_list_ex3 = tools.initRepeat(container = list,\n",
        "                                   func = toolbox.zeroOrOne,\n",
        "                                   n = 10)\n",
        "\n",
        "random_list_ex3"
      ],
      "metadata": {
        "colab": {
          "base_uri": "https://localhost:8080/",
          "height": 0
        },
        "id": "LwQP_YHrGmIa",
        "outputId": "084c388a-293a-4d11-c591-abdc1f4e3280"
      },
      "execution_count": 9,
      "outputs": [
        {
          "output_type": "execute_result",
          "data": {
            "text/plain": [
              "[1, 1, 1, 1, 1, 1, 0, 0, 0, 1]"
            ]
          },
          "metadata": {},
          "execution_count": 9
        }
      ]
    },
    {
      "cell_type": "markdown",
      "source": [
        "### OneMax Problem"
      ],
      "metadata": {
        "id": "FHEN4k_Uw8In"
      }
    },
    {
      "cell_type": "markdown",
      "source": [
        "Considerado o *Hello world* dos algoritmos genéticos.\n",
        "\n",
        "O objetivo é encontrar uma string binária de um dado tamanho que maximize a soma dos seus dígitos. Um exemplo do problema para um tamanho de 5 dígitos considerará o seguinte:\n",
        "\n",
        "- 10010 (soma de dígitos = 2)\n",
        "- 01110 (soma de dígitos = 3)\n",
        "- 11111 (soma de dígitos = 5)\n",
        "\n",
        "Claro que o resultado é obvio para nós, sendo uma string com todos dígitos iguais a 1, porém para o AG não o é."
      ],
      "metadata": {
        "id": "qHLp6hCnxaF_"
      }
    },
    {
      "cell_type": "markdown",
      "source": [
        "**Definindo constantes**"
      ],
      "metadata": {
        "id": "KdRccCmx0Af6"
      }
    },
    {
      "cell_type": "code",
      "source": [
        "## Tamanho da string de bits para ser otimizado\n",
        "ONE_MAX_LENGTH = 100\n",
        "\n",
        "## Número de individuos na população\n",
        "POPULATION_SIZE = 200\n",
        "## Probabilidade do crossover\n",
        "P_CROSSOVER = 0.9\n",
        "## Probabilidade da mutação de um indivíduo\n",
        "P_MUTATION = 0.1\n",
        "## Número máximo de gerações\n",
        "MAX_GENERATIONS = 50\n",
        "\n",
        "## Definindo uma seed\n",
        "RANDOM_SEED = 42\n",
        "random.seed(RANDOM_SEED)"
      ],
      "metadata": {
        "id": "BgZJPbJ3w_ZT"
      },
      "execution_count": 10,
      "outputs": []
    },
    {
      "cell_type": "markdown",
      "source": [
        "**Definindo Toolbox**"
      ],
      "metadata": {
        "id": "30EI8Swq1Y53"
      }
    },
    {
      "cell_type": "code",
      "source": [
        "toolbox = base.Toolbox()\n",
        "toolbox.register(alias = 'zeroOrOne',\n",
        "                 function = random.randint,\n",
        "                 a = 0, b = 1)"
      ],
      "metadata": {
        "id": "vQWjcbY21VAe"
      },
      "execution_count": 11,
      "outputs": []
    },
    {
      "cell_type": "markdown",
      "source": [
        "**Definindo a classe Fitness**"
      ],
      "metadata": {
        "id": "2HMb0Pn31Y4S"
      }
    },
    {
      "cell_type": "code",
      "source": [
        "creator.create(name = 'FitnessMax',\n",
        "               base = base.Fitness,\n",
        "               weights = (1., ))"
      ],
      "metadata": {
        "colab": {
          "base_uri": "https://localhost:8080/",
          "height": 0
        },
        "id": "bSJtb7QZ2KiZ",
        "outputId": "224b7043-6e9c-4475-9872-f04048c81e64"
      },
      "execution_count": 12,
      "outputs": [
        {
          "output_type": "stream",
          "name": "stderr",
          "text": [
            "/usr/local/lib/python3.10/dist-packages/deap/creator.py:185: RuntimeWarning: A class named 'FitnessMax' has already been created and it will be overwritten. Consider deleting previous creation of that class or rename it.\n",
            "  warnings.warn(\"A class named '{0}' has already been created and it \"\n"
          ]
        }
      ]
    },
    {
      "cell_type": "markdown",
      "source": [
        "**Definindo a classe Individual**"
      ],
      "metadata": {
        "id": "7jc1hKcQ3F1c"
      }
    },
    {
      "cell_type": "code",
      "source": [
        "creator.create(name = 'Individual',\n",
        "               base = list,\n",
        "               fitness = creator.FitnessMax)"
      ],
      "metadata": {
        "colab": {
          "base_uri": "https://localhost:8080/",
          "height": 0
        },
        "id": "2DmkjZbG2b2_",
        "outputId": "48e2ec26-ef95-4531-901d-2f063bae3902"
      },
      "execution_count": 13,
      "outputs": [
        {
          "output_type": "stream",
          "name": "stderr",
          "text": [
            "/usr/local/lib/python3.10/dist-packages/deap/creator.py:185: RuntimeWarning: A class named 'Individual' has already been created and it will be overwritten. Consider deleting previous creation of that class or rename it.\n",
            "  warnings.warn(\"A class named '{0}' has already been created and it \"\n"
          ]
        }
      ]
    },
    {
      "cell_type": "markdown",
      "source": [
        "**Definindo registro IndividualCreator para criar as instâncias da classe Individual**"
      ],
      "metadata": {
        "id": "Q9xw4dqr39r6"
      }
    },
    {
      "cell_type": "code",
      "source": [
        "toolbox.register('individualCreator',\n",
        "                 tools.initRepeat,\n",
        "                 creator.Individual,\n",
        "                 toolbox.zeroOrOne,\n",
        "                 ONE_MAX_LENGTH)"
      ],
      "metadata": {
        "id": "XbihIN0E3cEH"
      },
      "execution_count": 14,
      "outputs": []
    },
    {
      "cell_type": "markdown",
      "source": [
        "**Definindo o registro PopulationCreator para criar uma lista de indivíduos**"
      ],
      "metadata": {
        "id": "dRQpZTn654uu"
      }
    },
    {
      "cell_type": "code",
      "source": [
        "toolbox.register('populationCreator',\n",
        "                 tools.initRepeat,\n",
        "                 list,\n",
        "                 toolbox.individualCreator)"
      ],
      "metadata": {
        "id": "vN-GzLSx5qwB"
      },
      "execution_count": 15,
      "outputs": []
    },
    {
      "cell_type": "markdown",
      "source": [
        "**Definindo cálculo do fitness por indivíduo**"
      ],
      "metadata": {
        "id": "mStP4OeN6gdV"
      }
    },
    {
      "cell_type": "code",
      "source": [
        "def oneMaxFitness(individual: list) -> int:\n",
        "  return sum(individual) , # os valores de fitness no DEAP são tuplas, por isso da vírgula"
      ],
      "metadata": {
        "id": "nk_jjEnY6Sih"
      },
      "execution_count": 16,
      "outputs": []
    },
    {
      "cell_type": "code",
      "source": [
        "toolbox.register(alias = 'evaluate',\n",
        "                 function = oneMaxFitness)"
      ],
      "metadata": {
        "id": "VuMlaR8f7HHj"
      },
      "execution_count": 17,
      "outputs": []
    },
    {
      "cell_type": "markdown",
      "source": [
        "**Definindo operadores genéticos**"
      ],
      "metadata": {
        "id": "Be4Ja60Q7jUi"
      }
    },
    {
      "cell_type": "code",
      "source": [
        "toolbox.register(alias = 'select',\n",
        "                 function = tools.selTournament,\n",
        "                 tournsize = 3)\n",
        "toolbox.register(alias = 'mate',\n",
        "                 function = tools.cxOnePoint)\n",
        "toolbox.register(alias = 'mutate',\n",
        "                 function = tools.mutFlipBit,\n",
        "                 indpb = 1./ONE_MAX_LENGTH)"
      ],
      "metadata": {
        "id": "5XX8z3kf7RGT"
      },
      "execution_count": 18,
      "outputs": []
    },
    {
      "cell_type": "markdown",
      "source": [
        "**Fluxo de treinamento**"
      ],
      "metadata": {
        "id": "dM1NZrb_8qiS"
      }
    },
    {
      "cell_type": "code",
      "source": [
        "## 1. Criação da população\n",
        "population = toolbox.populationCreator(n = POPULATION_SIZE)\n",
        "generation_counter = 0\n",
        "\n",
        "## 2. Calculando fitness para cada individuo da população inicial\n",
        "fitness_values = list(map(toolbox.evaluate, population))\n",
        "\n",
        "## 3. Relacionando o fitness values para cada individuo\n",
        "for individual, fitness_value in zip(population, fitness_values):\n",
        "  individual.fitness.values = fitness_value\n",
        "\n",
        "## 4. Tratamento para caso haja fitness com valores unitários\n",
        "fitness_values = [individual.fitness.values[0] for individual in population]\n",
        "\n",
        "## 5. Inicializando listas das estatísticas\n",
        "max_fitness_values = []\n",
        "mean_fitness_values = []\n",
        "\n",
        "## 6. Loop da otimização\n",
        "while max(fitness_values) < ONE_MAX_LENGTH and generation_counter < MAX_GENERATIONS:\n",
        "  ## atualizando contador\n",
        "  generation_counter += 1\n",
        "  ## seleção\n",
        "  offspring = toolbox.select(population, len(population))\n",
        "  ## clonando lista dos selecionados para que as operações genéticas não afetem a população original\n",
        "  offspring = list(map(toolbox.clone, offspring))\n",
        "  ## crossover\n",
        "  for child1, child2 in zip(offspring[::2], offspring[1::2]):\n",
        "    if random.random() < P_CROSSOVER:\n",
        "      toolbox.mate(child1, child2)\n",
        "      del child1.fitness.values\n",
        "      del child2.fitness.values\n",
        "  ## mutação\n",
        "  for mutant in offspring:\n",
        "    if random.random() < P_MUTATION:\n",
        "      toolbox.mutate(mutant)\n",
        "      del mutant.fitness.values\n",
        "  ## recalculando o valor do fitness para os individuos que sofreram alteração de crossover ou mutação\n",
        "  fresh_individuals = [ind for ind in offspring if not ind.fitness.valid]\n",
        "  fresh_fitness_values = list(map(toolbox.evaluate, fresh_individuals))\n",
        "  for individual, fitness_value in zip(fresh_individuals, fresh_fitness_values):\n",
        "    individual.fitness.values = fitness_value\n",
        "  ## atualizando a população\n",
        "  population[:] = offspring\n",
        "  ## coletando estatisticas da otimização\n",
        "  fitness_values = [ind.fitness.values[0] for ind in population]\n",
        "  max_fitness = max(fitness_values)\n",
        "  mean_fitness = sum(fitness_values) / len(population)\n",
        "\n",
        "  max_fitness_values.append(max_fitness)\n",
        "  mean_fitness_values.append(mean_fitness)\n",
        "\n",
        "  print(\"- Geração {}: Max Fitness = {}, Avg Fitness = {}\".format(generation_counter, max_fitness, mean_fitness))\n",
        "  ## localizando e printando o melhor individuo\n",
        "  best_index = fitness_values.index(max(fitness_values))\n",
        "  print(\"Melhor indivíduo = \", *population[best_index], \"\\n\")\n",
        "\n",
        "## 7. Visualizando otimização nas gerações\n",
        "plt.plot(max_fitness_values, color = 'red')\n",
        "plt.plot(mean_fitness_values, color = 'green')\n",
        "plt.xlabel('Gerações')\n",
        "plt.ylabel('Max / Avg fitness')\n",
        "plt.title('Fitness máxima e média através das gerações')\n",
        "plt.legend(['Max', 'Mean'])\n",
        "plt.show()"
      ],
      "metadata": {
        "id": "vVrEcBXH8Ob0",
        "colab": {
          "base_uri": "https://localhost:8080/",
          "height": 3096
        },
        "outputId": "9d7d316c-f6de-4d8f-c25e-d661552ad958"
      },
      "execution_count": 20,
      "outputs": [
        {
          "output_type": "stream",
          "name": "stdout",
          "text": [
            "- Geração 1: Max Fitness = 63.0, Avg Fitness = 54.075\n",
            "Melhor indivíduo =  0 0 1 1 1 1 0 1 1 0 0 1 1 0 1 1 0 1 0 0 1 0 1 1 1 1 1 0 1 1 1 1 1 1 1 0 1 1 1 1 0 1 0 0 1 1 1 1 1 0 1 0 0 1 0 0 0 1 1 1 0 1 1 1 1 1 1 1 1 0 0 1 1 0 1 1 1 0 0 1 1 1 1 1 0 0 1 1 0 0 1 0 1 0 0 1 1 0 0 0 \n",
            "\n",
            "- Geração 2: Max Fitness = 67.0, Avg Fitness = 57.095\n",
            "Melhor indivíduo =  1 1 1 1 1 1 1 1 1 1 1 1 0 0 0 1 0 0 1 1 1 0 1 1 1 1 0 1 1 0 1 0 1 0 1 0 1 1 0 0 0 1 1 0 0 1 1 0 1 1 1 1 0 1 1 1 1 1 1 1 1 0 1 1 1 0 0 1 1 0 1 0 0 1 0 0 1 1 1 0 1 1 1 1 1 1 0 1 0 1 1 1 0 0 0 0 1 1 1 1 \n",
            "\n",
            "- Geração 3: Max Fitness = 71.0, Avg Fitness = 60.595\n",
            "Melhor indivíduo =  1 1 1 0 1 1 1 1 1 0 1 1 0 1 1 1 1 0 1 0 1 0 0 1 1 1 1 1 0 1 1 1 1 1 1 1 1 1 1 1 1 0 1 0 1 1 0 1 1 1 0 1 1 1 0 1 0 1 1 1 1 1 0 1 0 0 1 1 1 0 0 1 0 0 1 0 1 1 0 1 1 0 1 1 0 1 1 0 1 1 0 1 0 1 1 1 1 1 1 0 \n",
            "\n",
            "- Geração 4: Max Fitness = 73.0, Avg Fitness = 63.78\n",
            "Melhor indivíduo =  1 1 1 0 1 1 1 1 1 0 1 1 0 1 1 1 1 0 1 0 1 0 0 1 1 1 1 1 0 1 1 1 1 1 1 1 1 1 1 1 1 0 1 0 1 1 0 1 1 1 0 1 1 1 0 1 0 1 1 1 1 1 1 1 1 1 1 0 1 0 0 1 0 1 0 0 1 1 1 0 1 1 1 1 1 1 0 1 0 1 1 1 0 0 0 0 1 1 1 1 \n",
            "\n",
            "- Geração 5: Max Fitness = 74.0, Avg Fitness = 66.535\n",
            "Melhor indivíduo =  0 1 1 1 1 0 0 1 1 1 1 1 1 1 0 1 0 0 1 1 1 1 0 1 1 0 1 1 1 1 0 1 1 1 1 1 0 1 1 1 1 1 1 1 0 1 1 1 1 1 1 1 1 1 0 0 1 0 0 1 1 1 1 1 0 1 1 0 1 1 0 0 1 1 1 1 0 0 1 1 1 1 1 1 0 1 1 0 1 1 0 1 0 1 1 1 1 1 1 0 \n",
            "\n",
            "- Geração 6: Max Fitness = 75.0, Avg Fitness = 68.98\n",
            "Melhor indivíduo =  0 1 1 1 1 0 0 1 1 1 1 1 1 1 0 1 0 0 1 1 1 1 1 1 1 0 0 1 1 1 1 1 1 1 1 0 1 1 1 1 1 1 1 1 0 1 1 1 1 1 1 1 1 1 0 0 1 0 0 1 1 1 1 1 0 1 1 0 1 1 0 1 1 1 0 0 0 0 1 1 1 1 1 0 1 1 1 1 1 0 1 0 1 1 1 1 1 1 0 1 \n",
            "\n",
            "- Geração 7: Max Fitness = 78.0, Avg Fitness = 71.37\n",
            "Melhor indivíduo =  1 1 1 0 1 1 1 1 1 0 1 1 1 0 1 1 1 1 1 1 1 0 1 1 1 1 1 0 1 1 1 1 1 1 1 0 1 1 1 1 1 1 1 1 0 1 1 1 1 1 1 1 1 1 0 0 1 0 0 1 1 1 1 1 0 1 1 0 1 1 0 0 1 1 1 1 0 0 1 1 1 1 1 1 0 1 1 0 1 1 0 1 0 1 1 1 1 1 1 0 \n",
            "\n",
            "- Geração 8: Max Fitness = 81.0, Avg Fitness = 73.4\n",
            "Melhor indivíduo =  1 1 1 1 1 1 1 1 1 1 1 1 1 0 1 1 0 0 1 1 1 1 1 1 1 1 1 1 0 1 1 1 1 1 1 1 1 1 1 1 1 0 0 1 1 1 1 1 0 1 0 1 0 1 1 0 1 1 1 1 0 1 1 1 1 0 1 0 1 1 0 1 1 1 1 1 1 1 0 0 1 1 1 1 0 1 1 1 1 1 1 1 1 1 1 1 0 0 1 1 \n",
            "\n",
            "- Geração 9: Max Fitness = 82.0, Avg Fitness = 75.42\n",
            "Melhor indivíduo =  1 1 1 0 1 1 1 1 1 0 1 1 1 0 1 1 1 1 1 1 1 0 1 1 1 1 1 0 1 1 1 1 1 1 1 0 1 1 1 1 1 1 1 1 0 1 1 1 1 1 1 1 1 1 0 0 1 1 1 1 0 1 1 1 1 0 1 0 1 1 0 1 1 1 1 1 1 1 0 0 1 1 1 1 0 1 0 1 1 1 1 1 1 1 0 1 1 1 1 1 \n",
            "\n",
            "- Geração 10: Max Fitness = 82.0, Avg Fitness = 77.565\n",
            "Melhor indivíduo =  1 1 1 1 1 1 0 1 1 1 1 1 1 0 0 1 1 1 0 1 1 1 1 0 0 1 0 1 0 1 1 1 1 1 1 1 0 1 1 1 1 1 1 1 0 1 1 1 1 1 1 1 1 1 1 0 1 1 1 1 0 1 1 1 1 0 1 1 1 1 1 1 1 1 1 1 1 1 0 0 1 1 1 1 0 1 1 1 1 1 1 1 1 1 1 1 0 0 1 1 \n",
            "\n",
            "- Geração 11: Max Fitness = 83.0, Avg Fitness = 79.005\n",
            "Melhor indivíduo =  1 1 1 1 1 1 1 1 1 1 1 1 1 0 1 1 0 0 1 1 1 1 1 1 1 1 1 1 0 1 1 1 1 1 1 1 1 1 1 1 1 0 0 1 1 1 1 1 0 1 0 1 0 1 1 0 1 1 1 1 0 1 1 1 1 0 1 1 1 1 1 1 1 1 1 1 1 1 0 0 1 1 1 1 0 1 1 1 1 1 1 1 0 1 1 1 1 1 1 0 \n",
            "\n",
            "- Geração 12: Max Fitness = 85.0, Avg Fitness = 80.505\n",
            "Melhor indivíduo =  1 1 1 1 1 1 1 1 1 1 1 1 1 1 1 1 1 1 1 1 1 1 1 1 1 1 1 1 0 1 1 1 1 1 1 1 1 1 1 1 1 0 0 1 1 1 1 1 0 1 0 1 0 1 1 0 1 1 1 1 1 1 1 1 1 0 1 1 1 1 1 1 1 1 1 1 1 1 0 0 1 1 1 1 0 1 0 1 0 0 1 1 1 1 1 1 1 1 1 0 \n",
            "\n",
            "- Geração 13: Max Fitness = 89.0, Avg Fitness = 81.935\n",
            "Melhor indivíduo =  1 1 1 1 1 1 1 1 1 1 1 1 1 1 1 1 1 1 1 1 1 1 1 1 1 1 1 1 0 1 1 1 1 1 1 1 0 1 1 1 1 1 1 1 0 1 1 1 1 1 1 1 1 1 1 0 1 1 1 1 0 1 1 1 1 0 1 1 1 1 1 1 1 1 1 1 1 1 0 0 1 1 1 1 0 1 1 1 1 1 1 1 1 1 1 1 0 0 1 1 \n",
            "\n",
            "- Geração 14: Max Fitness = 89.0, Avg Fitness = 83.48\n",
            "Melhor indivíduo =  1 1 1 1 1 1 1 1 1 1 1 1 1 1 1 1 1 1 1 1 1 1 1 1 1 1 1 1 0 1 1 1 1 1 1 1 0 1 1 1 1 1 1 1 0 1 1 1 1 1 1 1 1 1 1 0 1 1 1 1 0 1 1 1 1 0 1 1 1 1 1 1 1 1 1 1 1 1 0 0 1 1 1 1 0 1 1 1 1 1 1 1 1 1 1 1 0 0 1 1 \n",
            "\n",
            "- Geração 15: Max Fitness = 91.0, Avg Fitness = 84.96\n",
            "Melhor indivíduo =  1 1 1 1 1 1 1 1 1 1 1 1 1 1 1 1 1 1 1 1 1 1 1 1 1 1 1 1 0 1 1 1 1 1 1 1 0 1 1 1 1 1 1 1 0 1 1 1 1 1 1 1 1 1 1 0 1 1 1 1 0 1 1 1 1 0 1 1 1 1 1 1 1 1 1 1 1 1 1 1 1 1 1 1 0 1 1 1 1 1 1 1 1 1 1 1 0 0 1 1 \n",
            "\n",
            "- Geração 16: Max Fitness = 92.0, Avg Fitness = 86.42\n",
            "Melhor indivíduo =  1 1 1 1 1 1 1 1 1 1 1 1 1 1 1 1 1 1 1 1 1 1 1 1 1 1 1 1 0 1 1 1 1 1 1 1 0 1 1 1 1 1 1 1 0 1 1 1 1 1 1 1 1 1 1 0 1 1 1 1 0 1 1 1 1 0 1 1 1 1 1 1 1 1 1 1 1 1 1 1 1 1 1 1 0 1 1 1 1 1 1 1 1 1 1 1 1 1 1 0 \n",
            "\n",
            "- Geração 17: Max Fitness = 92.0, Avg Fitness = 87.96\n",
            "Melhor indivíduo =  1 1 1 1 1 1 1 1 1 1 1 1 1 1 1 1 1 1 1 1 1 1 1 1 1 1 1 1 0 1 1 1 1 1 1 1 0 1 1 1 1 1 1 1 0 1 1 1 1 1 1 1 1 1 1 0 0 1 1 1 1 1 1 1 1 1 1 1 1 1 1 1 1 1 1 1 1 1 1 0 1 1 1 1 0 1 1 1 1 1 1 1 1 1 1 1 1 1 1 0 \n",
            "\n",
            "- Geração 18: Max Fitness = 93.0, Avg Fitness = 89.215\n",
            "Melhor indivíduo =  1 1 1 1 1 1 1 1 1 1 1 1 1 1 1 1 1 1 1 1 1 1 1 1 1 1 1 1 1 1 1 1 1 1 1 1 1 1 1 1 1 0 1 0 1 1 0 1 1 1 0 1 1 1 0 1 0 1 1 1 1 1 1 1 1 1 1 1 1 1 1 1 1 1 1 1 1 1 1 1 1 1 1 1 0 1 1 1 1 1 1 1 1 1 1 1 1 1 1 1 \n",
            "\n",
            "- Geração 19: Max Fitness = 95.0, Avg Fitness = 90.47\n",
            "Melhor indivíduo =  1 1 1 1 1 1 1 1 1 1 1 1 1 1 1 1 1 1 1 1 1 1 1 1 1 1 1 1 0 1 1 1 1 1 1 1 1 1 1 1 1 1 1 1 1 1 1 1 1 1 1 1 1 1 1 0 1 1 1 1 1 1 1 1 1 1 1 1 1 1 1 1 1 1 1 1 1 1 1 1 1 1 1 1 0 1 1 1 1 1 1 1 1 1 1 1 0 0 1 1 \n",
            "\n",
            "- Geração 20: Max Fitness = 95.0, Avg Fitness = 91.54\n",
            "Melhor indivíduo =  1 1 1 1 1 1 1 1 1 1 1 1 1 1 1 1 1 1 1 1 1 1 1 1 1 1 1 1 0 1 1 1 1 1 1 1 1 1 1 1 1 1 1 1 1 1 1 1 1 1 1 1 1 1 1 0 1 1 1 1 1 1 1 1 1 1 1 1 1 1 1 1 1 1 1 1 1 1 1 1 1 1 1 1 0 1 1 1 1 1 1 1 1 1 1 1 0 0 1 1 \n",
            "\n",
            "- Geração 21: Max Fitness = 96.0, Avg Fitness = 92.525\n",
            "Melhor indivíduo =  1 1 1 1 1 1 1 1 1 1 1 1 1 1 1 1 1 1 1 1 1 1 1 1 1 1 1 1 1 1 1 1 1 1 1 1 0 1 1 1 1 1 1 1 0 1 1 1 1 1 1 1 1 1 1 1 0 1 1 1 1 1 1 1 1 1 1 1 1 1 1 1 1 1 1 1 1 1 1 1 1 1 1 1 0 1 1 1 1 1 1 1 1 1 1 1 1 1 1 1 \n",
            "\n",
            "- Geração 22: Max Fitness = 97.0, Avg Fitness = 93.415\n",
            "Melhor indivíduo =  1 1 1 1 1 1 1 1 1 1 1 1 1 1 1 1 1 1 1 1 1 1 1 1 1 1 1 1 0 1 1 1 1 1 1 1 1 1 1 1 1 1 1 1 1 1 1 1 1 1 1 1 1 1 1 0 1 1 1 1 1 1 1 1 1 1 1 1 1 1 1 1 1 1 1 1 1 1 1 1 1 1 1 1 0 1 1 1 1 1 1 1 1 1 1 1 1 1 1 1 \n",
            "\n",
            "- Geração 23: Max Fitness = 97.0, Avg Fitness = 94.475\n",
            "Melhor indivíduo =  1 1 1 1 1 1 1 1 1 1 1 1 1 1 1 1 1 1 1 1 1 1 1 1 1 1 1 1 0 1 1 1 1 1 1 1 1 1 1 1 1 1 1 1 1 1 1 1 1 1 1 1 1 1 1 0 1 1 1 1 1 1 1 1 1 1 1 1 1 1 1 1 1 1 1 1 1 1 1 1 1 1 1 1 0 1 1 1 1 1 1 1 1 1 1 1 1 1 1 1 \n",
            "\n",
            "- Geração 24: Max Fitness = 98.0, Avg Fitness = 95.34\n",
            "Melhor indivíduo =  1 1 1 1 1 1 1 1 1 1 1 1 1 1 1 1 1 1 1 1 1 1 1 1 1 1 1 1 1 1 1 1 1 1 1 1 1 1 1 1 1 1 1 1 1 1 1 1 1 1 1 1 1 1 1 0 1 1 1 1 1 1 1 1 1 1 1 1 1 1 1 1 1 1 1 1 1 1 1 1 1 1 1 1 0 1 1 1 1 1 1 1 1 1 1 1 1 1 1 1 \n",
            "\n",
            "- Geração 25: Max Fitness = 98.0, Avg Fitness = 96.165\n",
            "Melhor indivíduo =  1 1 1 1 1 1 1 1 1 1 1 1 1 1 1 1 1 1 1 1 1 1 1 1 1 1 1 1 1 1 1 1 1 1 1 1 1 1 1 1 1 1 1 1 1 1 1 1 1 1 1 1 1 1 1 0 1 1 1 1 1 1 1 1 1 1 1 1 1 1 1 1 1 1 1 1 1 1 1 1 1 1 1 1 0 1 1 1 1 1 1 1 1 1 1 1 1 1 1 1 \n",
            "\n",
            "- Geração 26: Max Fitness = 98.0, Avg Fitness = 96.78\n",
            "Melhor indivíduo =  1 1 1 1 1 1 1 1 1 1 1 1 1 1 1 1 1 1 1 1 1 1 1 1 1 1 1 1 1 1 1 1 1 1 1 1 1 1 1 1 1 1 1 1 1 1 1 1 1 1 1 1 1 1 1 0 1 1 1 1 1 1 1 1 1 1 1 1 1 1 1 1 1 1 1 1 1 1 1 1 1 1 1 1 0 1 1 1 1 1 1 1 1 1 1 1 1 1 1 1 \n",
            "\n",
            "- Geração 27: Max Fitness = 98.0, Avg Fitness = 97.32\n",
            "Melhor indivíduo =  1 1 1 1 1 1 1 1 1 1 1 1 1 1 1 1 1 1 1 1 1 1 1 1 1 1 1 1 1 1 1 1 1 1 1 1 1 1 1 1 1 1 1 1 1 1 1 1 1 1 1 1 1 1 1 1 0 1 1 1 1 1 1 1 1 1 1 1 1 1 1 1 1 1 1 1 1 1 1 1 1 1 1 1 0 1 1 1 1 1 1 1 1 1 1 1 1 1 1 1 \n",
            "\n",
            "- Geração 28: Max Fitness = 99.0, Avg Fitness = 97.6\n",
            "Melhor indivíduo =  1 1 1 1 1 1 1 1 1 1 1 1 1 1 1 1 1 1 1 1 1 1 1 1 1 1 1 1 1 1 1 1 1 1 1 1 1 1 1 1 1 1 1 1 1 1 1 1 1 1 1 1 1 1 1 1 1 1 1 1 1 1 1 1 1 1 1 1 1 1 1 1 1 1 1 1 1 1 1 1 1 1 1 1 0 1 1 1 1 1 1 1 1 1 1 1 1 1 1 1 \n",
            "\n",
            "- Geração 29: Max Fitness = 99.0, Avg Fitness = 97.905\n",
            "Melhor indivíduo =  1 1 1 1 1 1 1 1 1 1 1 1 1 1 1 1 1 1 1 1 1 1 1 1 1 1 1 1 1 1 1 1 1 1 1 1 1 1 1 1 1 1 1 1 1 1 1 1 1 1 1 1 1 1 1 1 1 1 1 1 1 1 1 1 1 1 1 1 1 1 1 1 1 1 1 1 1 1 1 1 1 1 1 1 0 1 1 1 1 1 1 1 1 1 1 1 1 1 1 1 \n",
            "\n",
            "- Geração 30: Max Fitness = 99.0, Avg Fitness = 97.94\n",
            "Melhor indivíduo =  1 1 1 1 1 1 1 1 1 1 1 1 1 1 1 1 1 1 1 1 1 1 1 1 1 1 1 1 1 1 1 1 1 1 1 1 1 1 1 1 1 1 1 1 1 1 1 1 1 1 1 1 1 1 1 1 1 1 1 1 1 1 1 1 1 1 1 1 1 1 1 1 1 1 1 1 1 1 1 1 1 1 1 1 0 1 1 1 1 1 1 1 1 1 1 1 1 1 1 1 \n",
            "\n",
            "- Geração 31: Max Fitness = 99.0, Avg Fitness = 98.0\n",
            "Melhor indivíduo =  1 1 1 1 1 1 1 1 1 1 1 1 1 1 1 1 1 1 1 1 1 1 1 1 1 1 1 1 1 1 1 1 1 1 1 1 1 1 1 1 1 1 1 1 1 1 1 1 1 1 1 1 1 1 1 1 1 1 1 1 1 1 1 1 1 1 1 1 1 1 1 1 1 1 1 1 1 1 1 1 1 1 1 1 0 1 1 1 1 1 1 1 1 1 1 1 1 1 1 1 \n",
            "\n",
            "- Geração 32: Max Fitness = 99.0, Avg Fitness = 98.115\n",
            "Melhor indivíduo =  1 1 1 1 1 1 1 1 1 1 1 1 1 1 1 1 1 1 1 1 1 1 1 1 1 1 1 1 1 1 1 1 1 1 1 1 1 1 1 1 1 1 1 1 1 1 1 1 1 1 1 1 1 1 1 1 1 1 1 1 1 1 1 1 1 1 1 1 1 1 1 1 1 1 1 1 1 1 1 1 1 1 1 1 0 1 1 1 1 1 1 1 1 1 1 1 1 1 1 1 \n",
            "\n",
            "- Geração 33: Max Fitness = 99.0, Avg Fitness = 98.44\n",
            "Melhor indivíduo =  1 1 1 1 1 1 1 1 1 1 1 1 1 1 1 1 1 1 1 1 1 1 1 1 1 1 1 1 1 1 1 1 1 1 1 1 1 1 1 1 1 1 1 1 1 1 1 1 1 1 1 1 1 1 1 1 1 1 1 1 1 1 1 1 1 1 1 1 1 1 1 1 1 1 1 1 1 1 1 1 1 1 1 1 0 1 1 1 1 1 1 1 1 1 1 1 1 1 1 1 \n",
            "\n",
            "- Geração 34: Max Fitness = 99.0, Avg Fitness = 98.78\n",
            "Melhor indivíduo =  1 1 1 1 1 1 1 1 1 1 1 1 1 1 1 1 1 1 1 1 1 1 1 1 1 1 1 1 1 1 1 1 1 1 1 1 1 1 1 1 1 1 1 1 1 1 1 1 1 1 1 1 1 1 1 1 1 1 1 1 1 1 1 1 1 1 1 1 1 1 1 1 1 1 1 1 1 1 1 1 1 1 1 1 0 1 1 1 1 1 1 1 1 1 1 1 1 1 1 1 \n",
            "\n",
            "- Geração 35: Max Fitness = 99.0, Avg Fitness = 98.915\n",
            "Melhor indivíduo =  1 1 1 1 1 1 1 1 1 1 1 1 1 1 1 1 1 1 1 1 1 1 1 1 1 1 1 1 1 1 1 1 1 1 1 1 1 1 1 1 1 1 1 1 1 1 1 1 1 1 1 1 1 1 1 1 1 1 1 1 1 1 1 1 1 1 1 1 1 1 1 1 1 1 1 1 1 1 1 1 1 1 1 1 0 1 1 1 1 1 1 1 1 1 1 1 1 1 1 1 \n",
            "\n",
            "- Geração 36: Max Fitness = 99.0, Avg Fitness = 98.925\n",
            "Melhor indivíduo =  1 1 1 1 1 1 1 1 1 1 1 1 1 1 1 1 1 1 1 1 1 1 1 1 1 1 1 1 1 1 1 1 1 1 1 1 1 1 1 1 1 1 1 1 1 1 1 1 1 1 1 1 1 1 1 1 1 1 1 1 1 1 1 1 1 1 1 1 1 1 1 1 1 1 1 1 1 1 1 1 1 1 1 1 0 1 1 1 1 1 1 1 1 1 1 1 1 1 1 1 \n",
            "\n",
            "- Geração 37: Max Fitness = 99.0, Avg Fitness = 98.915\n",
            "Melhor indivíduo =  1 1 1 1 1 1 1 1 1 1 1 1 1 1 1 1 1 1 1 1 1 1 1 1 1 1 1 1 1 1 1 1 1 1 1 1 1 1 1 1 1 1 1 1 1 1 1 1 1 1 1 1 1 1 1 1 1 1 1 1 1 1 1 1 1 1 1 1 1 1 1 1 1 1 1 1 1 1 1 1 1 1 1 1 0 1 1 1 1 1 1 1 1 1 1 1 1 1 1 1 \n",
            "\n",
            "- Geração 38: Max Fitness = 99.0, Avg Fitness = 98.87\n",
            "Melhor indivíduo =  1 1 1 1 1 1 1 1 1 1 1 1 1 1 1 1 1 1 1 1 1 1 1 1 1 1 1 1 1 1 1 1 1 1 1 1 1 1 1 1 1 1 1 1 1 1 1 1 1 1 1 1 1 1 1 1 1 1 1 1 1 1 1 1 1 1 1 1 1 1 1 1 1 1 1 1 1 1 1 1 1 1 1 1 0 1 1 1 1 1 1 1 1 1 1 1 1 1 1 1 \n",
            "\n",
            "- Geração 39: Max Fitness = 99.0, Avg Fitness = 98.93\n",
            "Melhor indivíduo =  1 1 1 1 1 1 1 1 1 1 1 1 1 1 1 1 1 1 1 1 1 1 1 1 1 1 1 1 1 1 1 1 1 1 1 1 1 1 1 1 1 1 1 1 1 1 1 1 1 1 1 1 1 1 1 1 1 1 1 1 1 1 1 1 1 1 1 1 1 1 1 1 1 1 1 1 1 1 1 1 1 1 1 1 0 1 1 1 1 1 1 1 1 1 1 1 1 1 1 1 \n",
            "\n",
            "- Geração 40: Max Fitness = 99.0, Avg Fitness = 98.92\n",
            "Melhor indivíduo =  1 1 1 1 1 1 1 1 1 1 1 1 1 1 1 1 1 1 1 1 1 1 1 1 1 1 1 1 1 1 1 1 1 1 1 1 1 1 1 1 1 1 1 1 1 1 1 1 1 1 1 1 1 1 1 1 1 1 1 1 1 1 1 1 1 1 1 1 1 1 1 1 1 1 1 1 1 1 1 1 1 1 1 1 0 1 1 1 1 1 1 1 1 1 1 1 1 1 1 1 \n",
            "\n",
            "- Geração 41: Max Fitness = 99.0, Avg Fitness = 98.86\n",
            "Melhor indivíduo =  1 1 1 1 1 1 1 1 1 1 1 1 1 1 1 1 1 1 1 1 1 1 1 1 1 1 1 1 1 1 1 1 1 1 1 1 1 1 1 1 1 1 1 1 1 1 1 1 1 1 1 1 1 1 1 1 1 1 1 1 1 1 1 1 1 1 1 1 1 1 1 1 1 1 1 1 1 1 1 1 1 1 1 1 0 1 1 1 1 1 1 1 1 1 1 1 1 1 1 1 \n",
            "\n",
            "- Geração 42: Max Fitness = 99.0, Avg Fitness = 98.925\n",
            "Melhor indivíduo =  1 1 1 1 1 1 1 1 1 1 1 1 1 1 1 1 1 1 1 1 1 1 1 1 1 1 1 1 1 1 1 1 1 1 1 1 1 1 1 1 1 1 1 1 1 1 1 1 1 1 1 1 1 1 1 1 1 1 1 1 1 1 1 1 1 1 1 1 1 1 1 1 1 1 1 1 1 1 1 1 1 1 1 1 0 1 1 1 1 1 1 1 1 1 1 1 1 1 1 1 \n",
            "\n",
            "- Geração 43: Max Fitness = 99.0, Avg Fitness = 98.9\n",
            "Melhor indivíduo =  1 1 1 1 1 1 1 1 1 1 1 1 1 1 1 1 1 1 1 1 1 1 1 1 1 1 1 1 1 1 1 1 1 1 1 1 1 1 1 1 1 1 1 1 1 1 1 1 1 1 1 1 1 1 1 1 1 1 1 1 1 1 1 1 1 1 1 1 1 1 1 1 1 1 1 1 1 1 1 1 1 1 1 1 0 1 1 1 1 1 1 1 1 1 1 1 1 1 1 1 \n",
            "\n",
            "- Geração 44: Max Fitness = 99.0, Avg Fitness = 98.9\n",
            "Melhor indivíduo =  1 1 1 1 1 1 1 1 1 1 1 1 1 1 1 1 1 1 1 1 1 1 1 1 1 1 1 1 1 1 1 1 1 1 1 1 1 1 1 1 1 1 1 1 1 1 1 1 1 1 1 1 1 1 1 1 1 1 1 1 1 1 1 1 1 1 1 1 1 1 1 1 1 1 1 1 1 1 1 1 1 1 1 1 0 1 1 1 1 1 1 1 1 1 1 1 1 1 1 1 \n",
            "\n",
            "- Geração 45: Max Fitness = 99.0, Avg Fitness = 98.87\n",
            "Melhor indivíduo =  1 1 1 1 1 1 1 1 1 1 1 1 1 1 1 1 1 1 1 1 1 1 1 1 1 1 1 1 1 1 1 1 1 1 1 1 1 1 1 1 1 1 1 1 1 1 1 1 1 1 1 1 1 1 1 1 1 1 1 1 1 1 1 1 1 1 1 1 1 1 1 1 1 1 1 1 1 1 1 1 1 1 1 1 0 1 1 1 1 1 1 1 1 1 1 1 1 1 1 1 \n",
            "\n",
            "- Geração 46: Max Fitness = 99.0, Avg Fitness = 98.905\n",
            "Melhor indivíduo =  1 1 1 1 1 1 1 1 1 1 1 1 1 1 1 1 1 1 1 1 1 1 1 1 1 1 1 1 1 1 1 1 1 1 1 1 1 1 1 1 1 1 1 1 1 1 1 1 1 1 1 1 1 1 1 1 1 1 1 1 1 1 1 1 1 1 1 1 1 1 1 1 1 1 1 1 1 1 1 1 1 1 1 1 0 1 1 1 1 1 1 1 1 1 1 1 1 1 1 1 \n",
            "\n",
            "- Geração 47: Max Fitness = 99.0, Avg Fitness = 98.925\n",
            "Melhor indivíduo =  1 1 1 1 1 1 1 1 1 1 1 1 1 1 1 1 1 1 1 1 1 1 1 1 1 1 1 1 1 1 1 1 1 1 1 1 1 1 1 1 1 1 1 1 1 1 1 1 1 1 1 1 1 1 1 1 1 1 1 1 1 1 1 1 1 1 1 1 1 1 1 1 1 1 1 1 1 1 1 1 1 1 1 1 0 1 1 1 1 1 1 1 1 1 1 1 1 1 1 1 \n",
            "\n",
            "- Geração 48: Max Fitness = 99.0, Avg Fitness = 98.925\n",
            "Melhor indivíduo =  1 1 1 1 1 1 1 1 1 1 1 1 1 1 1 1 1 1 1 1 1 1 1 1 1 1 1 1 1 1 1 1 1 1 1 1 1 1 1 1 1 1 1 1 1 1 1 1 1 1 1 1 1 1 1 1 1 1 1 1 1 1 1 1 1 1 1 1 1 1 1 1 1 1 1 1 1 1 1 1 1 1 1 1 0 1 1 1 1 1 1 1 1 1 1 1 1 1 1 1 \n",
            "\n",
            "- Geração 49: Max Fitness = 99.0, Avg Fitness = 98.915\n",
            "Melhor indivíduo =  1 1 1 1 1 1 1 1 1 1 1 1 1 1 1 1 1 1 1 1 1 1 1 1 1 1 1 1 1 1 1 1 1 1 1 1 1 1 1 1 1 1 1 1 1 1 1 1 1 1 1 1 1 1 1 1 1 1 1 1 1 1 1 1 1 1 1 1 1 1 1 1 1 1 1 1 1 1 1 1 1 1 1 1 0 1 1 1 1 1 1 1 1 1 1 1 1 1 1 1 \n",
            "\n",
            "- Geração 50: Max Fitness = 100.0, Avg Fitness = 98.875\n",
            "Melhor indivíduo =  1 1 1 1 1 1 1 1 1 1 1 1 1 1 1 1 1 1 1 1 1 1 1 1 1 1 1 1 1 1 1 1 1 1 1 1 1 1 1 1 1 1 1 1 1 1 1 1 1 1 1 1 1 1 1 1 1 1 1 1 1 1 1 1 1 1 1 1 1 1 1 1 1 1 1 1 1 1 1 1 1 1 1 1 1 1 1 1 1 1 1 1 1 1 1 1 1 1 1 1 \n",
            "\n"
          ]
        },
        {
          "output_type": "display_data",
          "data": {
            "text/plain": [
              "<Figure size 640x480 with 1 Axes>"
            ],
            "image/png": "[encoded data removed]"
          },
          "metadata": {}
        }
      ]
    }
  ]
}