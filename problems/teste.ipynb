{
 "cells": [
  {
   "cell_type": "code",
   "execution_count": 3,
   "metadata": {},
   "outputs": [],
   "source": [
    "import numpy as np\n",
    "import matplotlib.pyplot as plt\n",
    "from mpl_toolkits.mplot3d import Axes3D\n",
    "from cec14 import CEC14"
   ]
  },
  {
   "cell_type": "code",
   "execution_count": 5,
   "metadata": {},
   "outputs": [],
   "source": [
    "num_points = 100\n",
    "x = np.linspace(-5.12, 5.12, num_points)\n",
    "y = np.linspace(-5.12, 5.12, num_points)\n",
    "X, Y = np.meshgrid(x, y)\n",
    "\n",
    "# Dimensões da partícula\n",
    "problem = CEC14()\n",
    "\n",
    "# Calculando os valores da função\n",
    "Z = np.zeros((num_points, num_points))\n",
    "for i in range(num_points):\n",
    "    for j in range(num_points):\n",
    "        Z[i, j] = problem.f8(np.array([X[i, j], Y[i, j]]), ndim=2)\n",
    "\n",
    "# Configurando a figura 3D\n",
    "fig = plt.figure()\n",
    "ax = fig.add_subplot(111, projection='3d')\n",
    "\n",
    "# Plotagem da superfície Rastrigin\n",
    "ax.plot_surface(X, Y, Z, cmap='viridis')\n",
    "\n",
    "# Configuração dos rótulos dos eixos\n",
    "ax.set_xlabel('X')\n",
    "ax.set_ylabel('Y')\n",
    "ax.set_zlabel('Z')\n",
    "\n",
    "# Título do gráfico\n",
    "ax.set_title('Função Rastrigin em 3D')\n",
    "\n",
    "# Mostrar o gráfico\n",
    "plt.show()"
   ]
  },
  {
   "cell_type": "code",
   "execution_count": null,
   "metadata": {},
   "outputs": [],
   "source": []
  }
 ],
 "metadata": {
  "kernelspec": {
   "display_name": "Python 3",
   "language": "python",
   "name": "python3"
  },
  "language_info": {
   "codemirror_mode": {
    "name": "ipython",
    "version": 3
   },
   "file_extension": ".py",
   "mimetype": "text/x-python",
   "name": "python",
   "nbconvert_exporter": "python",
   "pygments_lexer": "ipython3",
   "version": "3.9.1"
  },
  "orig_nbformat": 4
 },
 "nbformat": 4,
 "nbformat_minor": 2
}
