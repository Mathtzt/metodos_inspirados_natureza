{
 "cells": [
  {
   "cell_type": "code",
   "execution_count": 1,
   "metadata": {},
   "outputs": [],
   "source": [
    "import pandas as pd\n",
    "import numpy as np"
   ]
  },
  {
   "cell_type": "code",
   "execution_count": 101,
   "metadata": {},
   "outputs": [],
   "source": [
    "df_variance = pd.read_csv(\"./2208_2059_pso/opt_history.csv\")"
   ]
  },
  {
   "cell_type": "code",
   "execution_count": 102,
   "metadata": {},
   "outputs": [
    {
     "data": {
      "text/html": [
       "<div>\n",
       "<style scoped>\n",
       "    .dataframe tbody tr th:only-of-type {\n",
       "        vertical-align: middle;\n",
       "    }\n",
       "\n",
       "    .dataframe tbody tr th {\n",
       "        vertical-align: top;\n",
       "    }\n",
       "\n",
       "    .dataframe thead th {\n",
       "        text-align: right;\n",
       "    }\n",
       "</style>\n",
       "<table border=\"1\" class=\"dataframe\">\n",
       "  <thead>\n",
       "    <tr style=\"text-align: right;\">\n",
       "      <th></th>\n",
       "      <th>execucao</th>\n",
       "      <th>funcao_objetivo</th>\n",
       "      <th>is_rotated</th>\n",
       "      <th>dimensoes</th>\n",
       "      <th>tamanho_populacao</th>\n",
       "      <th>total_geracoes_realizadas</th>\n",
       "      <th>range_position</th>\n",
       "      <th>omega</th>\n",
       "      <th>reduce_omega_linearly</th>\n",
       "      <th>range_speed</th>\n",
       "      <th>cognitive_factor</th>\n",
       "      <th>social_factor</th>\n",
       "      <th>best_particle</th>\n",
       "      <th>best_fitness</th>\n",
       "      <th>out_bounds</th>\n",
       "    </tr>\n",
       "  </thead>\n",
       "  <tbody>\n",
       "    <tr>\n",
       "      <th>0</th>\n",
       "      <td>1</td>\n",
       "      <td>f8</td>\n",
       "      <td>True</td>\n",
       "      <td>10</td>\n",
       "      <td>10</td>\n",
       "      <td>9999</td>\n",
       "      <td>[-100, 100]</td>\n",
       "      <td>0.40005</td>\n",
       "      <td>True</td>\n",
       "      <td>[-50.0, 50.0]</td>\n",
       "      <td>2.0</td>\n",
       "      <td>2.0</td>\n",
       "      <td>[ 12.31768579  43.09505528 -46.81983542   5.85...</td>\n",
       "      <td>804.974795</td>\n",
       "      <td>29988</td>\n",
       "    </tr>\n",
       "    <tr>\n",
       "      <th>1</th>\n",
       "      <td>2</td>\n",
       "      <td>f8</td>\n",
       "      <td>True</td>\n",
       "      <td>10</td>\n",
       "      <td>10</td>\n",
       "      <td>9999</td>\n",
       "      <td>[-100, 100]</td>\n",
       "      <td>0.40005</td>\n",
       "      <td>True</td>\n",
       "      <td>[-50.0, 50.0]</td>\n",
       "      <td>2.0</td>\n",
       "      <td>2.0</td>\n",
       "      <td>[  18.75346277   34.60845336  -20.37399636  -1...</td>\n",
       "      <td>809.949591</td>\n",
       "      <td>37138</td>\n",
       "    </tr>\n",
       "    <tr>\n",
       "      <th>2</th>\n",
       "      <td>3</td>\n",
       "      <td>f8</td>\n",
       "      <td>True</td>\n",
       "      <td>10</td>\n",
       "      <td>10</td>\n",
       "      <td>9999</td>\n",
       "      <td>[-100, 100]</td>\n",
       "      <td>0.40005</td>\n",
       "      <td>True</td>\n",
       "      <td>[-50.0, 50.0]</td>\n",
       "      <td>2.0</td>\n",
       "      <td>2.0</td>\n",
       "      <td>[ -4.75174157  55.28559998 -17.51364792 -16.68...</td>\n",
       "      <td>809.949586</td>\n",
       "      <td>35226</td>\n",
       "    </tr>\n",
       "    <tr>\n",
       "      <th>3</th>\n",
       "      <td>4</td>\n",
       "      <td>f8</td>\n",
       "      <td>True</td>\n",
       "      <td>10</td>\n",
       "      <td>10</td>\n",
       "      <td>9999</td>\n",
       "      <td>[-100, 100]</td>\n",
       "      <td>0.40005</td>\n",
       "      <td>True</td>\n",
       "      <td>[-50.0, 50.0]</td>\n",
       "      <td>2.0</td>\n",
       "      <td>2.0</td>\n",
       "      <td>[ 38.99897323  47.24321328 -23.6036842    0.46...</td>\n",
       "      <td>808.954626</td>\n",
       "      <td>33776</td>\n",
       "    </tr>\n",
       "    <tr>\n",
       "      <th>4</th>\n",
       "      <td>5</td>\n",
       "      <td>f8</td>\n",
       "      <td>True</td>\n",
       "      <td>10</td>\n",
       "      <td>10</td>\n",
       "      <td>9999</td>\n",
       "      <td>[-100, 100]</td>\n",
       "      <td>0.40005</td>\n",
       "      <td>True</td>\n",
       "      <td>[-50.0, 50.0]</td>\n",
       "      <td>2.0</td>\n",
       "      <td>2.0</td>\n",
       "      <td>[ 27.67458531  86.16919458 -20.47724865 -28.52...</td>\n",
       "      <td>806.964713</td>\n",
       "      <td>36521</td>\n",
       "    </tr>\n",
       "  </tbody>\n",
       "</table>\n",
       "</div>"
      ],
      "text/plain": [
       "   execucao funcao_objetivo  is_rotated  dimensoes  tamanho_populacao  \\\n",
       "0         1              f8        True         10                 10   \n",
       "1         2              f8        True         10                 10   \n",
       "2         3              f8        True         10                 10   \n",
       "3         4              f8        True         10                 10   \n",
       "4         5              f8        True         10                 10   \n",
       "\n",
       "   total_geracoes_realizadas range_position    omega  reduce_omega_linearly  \\\n",
       "0                       9999    [-100, 100]  0.40005                   True   \n",
       "1                       9999    [-100, 100]  0.40005                   True   \n",
       "2                       9999    [-100, 100]  0.40005                   True   \n",
       "3                       9999    [-100, 100]  0.40005                   True   \n",
       "4                       9999    [-100, 100]  0.40005                   True   \n",
       "\n",
       "     range_speed  cognitive_factor  social_factor  \\\n",
       "0  [-50.0, 50.0]               2.0            2.0   \n",
       "1  [-50.0, 50.0]               2.0            2.0   \n",
       "2  [-50.0, 50.0]               2.0            2.0   \n",
       "3  [-50.0, 50.0]               2.0            2.0   \n",
       "4  [-50.0, 50.0]               2.0            2.0   \n",
       "\n",
       "                                       best_particle  best_fitness  out_bounds  \n",
       "0  [ 12.31768579  43.09505528 -46.81983542   5.85...    804.974795       29988  \n",
       "1  [  18.75346277   34.60845336  -20.37399636  -1...    809.949591       37138  \n",
       "2  [ -4.75174157  55.28559998 -17.51364792 -16.68...    809.949586       35226  \n",
       "3  [ 38.99897323  47.24321328 -23.6036842    0.46...    808.954626       33776  \n",
       "4  [ 27.67458531  86.16919458 -20.47724865 -28.52...    806.964713       36521  "
      ]
     },
     "execution_count": 102,
     "metadata": {},
     "output_type": "execute_result"
    }
   ],
   "source": [
    "df_variance.head()"
   ]
  },
  {
   "cell_type": "code",
   "execution_count": 103,
   "metadata": {},
   "outputs": [
    {
     "data": {
      "text/plain": [
       "804.9747952854665"
      ]
     },
     "execution_count": 103,
     "metadata": {},
     "output_type": "execute_result"
    }
   ],
   "source": [
    "best = df_variance['best_fitness'].min()\n",
    "best"
   ]
  },
  {
   "cell_type": "code",
   "execution_count": 104,
   "metadata": {},
   "outputs": [
    {
     "data": {
      "text/plain": [
       "809.949590570933"
      ]
     },
     "execution_count": 104,
     "metadata": {},
     "output_type": "execute_result"
    }
   ],
   "source": [
    "worst = df_variance['best_fitness'].max()\n",
    "worst"
   ]
  },
  {
   "cell_type": "code",
   "execution_count": 105,
   "metadata": {},
   "outputs": [
    {
     "data": {
      "text/plain": [
       "808.1586622530374"
      ]
     },
     "execution_count": 105,
     "metadata": {},
     "output_type": "execute_result"
    }
   ],
   "source": [
    "mean = df_variance['best_fitness'].mean()\n",
    "mean"
   ]
  },
  {
   "cell_type": "code",
   "execution_count": 106,
   "metadata": {},
   "outputs": [
    {
     "data": {
      "text/plain": [
       "2.15701832461597"
      ]
     },
     "execution_count": 106,
     "metadata": {},
     "output_type": "execute_result"
    }
   ],
   "source": [
    "std = df_variance['best_fitness'].std()\n",
    "std"
   ]
  },
  {
   "cell_type": "code",
   "execution_count": 107,
   "metadata": {},
   "outputs": [
    {
     "data": {
      "text/html": [
       "<div>\n",
       "<style scoped>\n",
       "    .dataframe tbody tr th:only-of-type {\n",
       "        vertical-align: middle;\n",
       "    }\n",
       "\n",
       "    .dataframe tbody tr th {\n",
       "        vertical-align: top;\n",
       "    }\n",
       "\n",
       "    .dataframe thead th {\n",
       "        text-align: right;\n",
       "    }\n",
       "</style>\n",
       "<table border=\"1\" class=\"dataframe\">\n",
       "  <thead>\n",
       "    <tr style=\"text-align: right;\">\n",
       "      <th></th>\n",
       "      <th>execucao</th>\n",
       "      <th>funcao_objetivo</th>\n",
       "      <th>is_rotated</th>\n",
       "      <th>dimensoes</th>\n",
       "      <th>tamanho_populacao</th>\n",
       "      <th>total_geracoes_realizadas</th>\n",
       "      <th>range_position</th>\n",
       "      <th>omega</th>\n",
       "      <th>reduce_omega_linearly</th>\n",
       "      <th>range_speed</th>\n",
       "      <th>cognitive_factor</th>\n",
       "      <th>social_factor</th>\n",
       "      <th>best_particle</th>\n",
       "      <th>best_fitness</th>\n",
       "      <th>out_bounds</th>\n",
       "    </tr>\n",
       "  </thead>\n",
       "  <tbody>\n",
       "    <tr>\n",
       "      <th>0</th>\n",
       "      <td>1</td>\n",
       "      <td>f8</td>\n",
       "      <td>True</td>\n",
       "      <td>10</td>\n",
       "      <td>10</td>\n",
       "      <td>9999</td>\n",
       "      <td>[-100, 100]</td>\n",
       "      <td>0.40005</td>\n",
       "      <td>True</td>\n",
       "      <td>[-50.0, 50.0]</td>\n",
       "      <td>2.0</td>\n",
       "      <td>2.0</td>\n",
       "      <td>[ 12.31768579  43.09505528 -46.81983542   5.85...</td>\n",
       "      <td>804.974795</td>\n",
       "      <td>29988</td>\n",
       "    </tr>\n",
       "  </tbody>\n",
       "</table>\n",
       "</div>"
      ],
      "text/plain": [
       "   execucao funcao_objetivo  is_rotated  dimensoes  tamanho_populacao  \\\n",
       "0         1              f8        True         10                 10   \n",
       "\n",
       "   total_geracoes_realizadas range_position    omega  reduce_omega_linearly  \\\n",
       "0                       9999    [-100, 100]  0.40005                   True   \n",
       "\n",
       "     range_speed  cognitive_factor  social_factor  \\\n",
       "0  [-50.0, 50.0]               2.0            2.0   \n",
       "\n",
       "                                       best_particle  best_fitness  out_bounds  \n",
       "0  [ 12.31768579  43.09505528 -46.81983542   5.85...    804.974795       29988  "
      ]
     },
     "execution_count": 107,
     "metadata": {},
     "output_type": "execute_result"
    }
   ],
   "source": [
    "df_variance[df_variance['best_fitness'] == best]"
   ]
  },
  {
   "cell_type": "code",
   "execution_count": 108,
   "metadata": {},
   "outputs": [
    {
     "data": {
      "text/plain": [
       "34529.8"
      ]
     },
     "execution_count": 108,
     "metadata": {},
     "output_type": "execute_result"
    }
   ],
   "source": [
    "df_variance['out_bounds'].mean()"
   ]
  },
  {
   "cell_type": "code",
   "execution_count": null,
   "metadata": {},
   "outputs": [],
   "source": []
  }
 ],
 "metadata": {
  "kernelspec": {
   "display_name": "Python 3",
   "language": "python",
   "name": "python3"
  },
  "language_info": {
   "codemirror_mode": {
    "name": "ipython",
    "version": 3
   },
   "file_extension": ".py",
   "mimetype": "text/x-python",
   "name": "python",
   "nbconvert_exporter": "python",
   "pygments_lexer": "ipython3",
   "version": "3.9.1"
  },
  "orig_nbformat": 4
 },
 "nbformat": 4,
 "nbformat_minor": 2
}
