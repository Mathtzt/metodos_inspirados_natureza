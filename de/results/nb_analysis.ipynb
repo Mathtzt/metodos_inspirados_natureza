{
 "cells": [
  {
   "cell_type": "code",
   "execution_count": 1,
   "metadata": {},
   "outputs": [],
   "source": [
    "import pandas as pd\n",
    "import numpy as np"
   ]
  },
  {
   "cell_type": "code",
   "execution_count": 38,
   "metadata": {},
   "outputs": [],
   "source": [
    "df_variance = pd.read_csv(\"./2208_2345_de/opt_history.csv\")"
   ]
  },
  {
   "cell_type": "code",
   "execution_count": 39,
   "metadata": {},
   "outputs": [
    {
     "data": {
      "text/html": [
       "<div>\n",
       "<style scoped>\n",
       "    .dataframe tbody tr th:only-of-type {\n",
       "        vertical-align: middle;\n",
       "    }\n",
       "\n",
       "    .dataframe tbody tr th {\n",
       "        vertical-align: top;\n",
       "    }\n",
       "\n",
       "    .dataframe thead th {\n",
       "        text-align: right;\n",
       "    }\n",
       "</style>\n",
       "<table border=\"1\" class=\"dataframe\">\n",
       "  <thead>\n",
       "    <tr style=\"text-align: right;\">\n",
       "      <th></th>\n",
       "      <th>execucao</th>\n",
       "      <th>funcao_objetivo</th>\n",
       "      <th>is_rotated</th>\n",
       "      <th>dimensoes</th>\n",
       "      <th>tamanho_populacao</th>\n",
       "      <th>total_geracoes_realizadas</th>\n",
       "      <th>range_position</th>\n",
       "      <th>perc_mutation</th>\n",
       "      <th>perc_crossover</th>\n",
       "      <th>crossover_type</th>\n",
       "      <th>best_ind</th>\n",
       "      <th>best_fitness</th>\n",
       "      <th>out_bounds</th>\n",
       "    </tr>\n",
       "  </thead>\n",
       "  <tbody>\n",
       "    <tr>\n",
       "      <th>0</th>\n",
       "      <td>1</td>\n",
       "      <td>f8</td>\n",
       "      <td>True</td>\n",
       "      <td>10</td>\n",
       "      <td>10</td>\n",
       "      <td>10000</td>\n",
       "      <td>[-100, 100]</td>\n",
       "      <td>0.9</td>\n",
       "      <td>0.4</td>\n",
       "      <td>NaN</td>\n",
       "      <td>[ 14.30750974  46.93170188 -23.9037177   -8.64...</td>\n",
       "      <td>802.566248</td>\n",
       "      <td>35499</td>\n",
       "    </tr>\n",
       "    <tr>\n",
       "      <th>1</th>\n",
       "      <td>2</td>\n",
       "      <td>f8</td>\n",
       "      <td>True</td>\n",
       "      <td>10</td>\n",
       "      <td>10</td>\n",
       "      <td>10000</td>\n",
       "      <td>[-100, 100]</td>\n",
       "      <td>0.9</td>\n",
       "      <td>0.4</td>\n",
       "      <td>NaN</td>\n",
       "      <td>[  9.44520713  42.65198087 -14.28417446 -32.23...</td>\n",
       "      <td>806.208811</td>\n",
       "      <td>26208</td>\n",
       "    </tr>\n",
       "    <tr>\n",
       "      <th>2</th>\n",
       "      <td>3</td>\n",
       "      <td>f8</td>\n",
       "      <td>True</td>\n",
       "      <td>10</td>\n",
       "      <td>10</td>\n",
       "      <td>10000</td>\n",
       "      <td>[-100, 100]</td>\n",
       "      <td>0.9</td>\n",
       "      <td>0.4</td>\n",
       "      <td>NaN</td>\n",
       "      <td>[  9.4452074   49.19032769 -32.16674182  -8.63...</td>\n",
       "      <td>800.994959</td>\n",
       "      <td>17101</td>\n",
       "    </tr>\n",
       "    <tr>\n",
       "      <th>3</th>\n",
       "      <td>4</td>\n",
       "      <td>f8</td>\n",
       "      <td>True</td>\n",
       "      <td>10</td>\n",
       "      <td>10</td>\n",
       "      <td>10000</td>\n",
       "      <td>[-100, 100]</td>\n",
       "      <td>0.9</td>\n",
       "      <td>0.4</td>\n",
       "      <td>NaN</td>\n",
       "      <td>[  9.48026814  56.64494382 -24.37806359 -20.40...</td>\n",
       "      <td>800.999562</td>\n",
       "      <td>48013</td>\n",
       "    </tr>\n",
       "    <tr>\n",
       "      <th>4</th>\n",
       "      <td>5</td>\n",
       "      <td>f8</td>\n",
       "      <td>True</td>\n",
       "      <td>10</td>\n",
       "      <td>10</td>\n",
       "      <td>10000</td>\n",
       "      <td>[-100, 100]</td>\n",
       "      <td>0.9</td>\n",
       "      <td>0.4</td>\n",
       "      <td>NaN</td>\n",
       "      <td>[ 11.46150165  62.75133265  -9.68627457 -14.02...</td>\n",
       "      <td>802.984877</td>\n",
       "      <td>36886</td>\n",
       "    </tr>\n",
       "  </tbody>\n",
       "</table>\n",
       "</div>"
      ],
      "text/plain": [
       "   execucao funcao_objetivo  is_rotated  dimensoes  tamanho_populacao  \\\n",
       "0         1              f8        True         10                 10   \n",
       "1         2              f8        True         10                 10   \n",
       "2         3              f8        True         10                 10   \n",
       "3         4              f8        True         10                 10   \n",
       "4         5              f8        True         10                 10   \n",
       "\n",
       "   total_geracoes_realizadas range_position  perc_mutation  perc_crossover  \\\n",
       "0                      10000    [-100, 100]            0.9             0.4   \n",
       "1                      10000    [-100, 100]            0.9             0.4   \n",
       "2                      10000    [-100, 100]            0.9             0.4   \n",
       "3                      10000    [-100, 100]            0.9             0.4   \n",
       "4                      10000    [-100, 100]            0.9             0.4   \n",
       "\n",
       "   crossover_type                                           best_ind  \\\n",
       "0             NaN  [ 14.30750974  46.93170188 -23.9037177   -8.64...   \n",
       "1             NaN  [  9.44520713  42.65198087 -14.28417446 -32.23...   \n",
       "2             NaN  [  9.4452074   49.19032769 -32.16674182  -8.63...   \n",
       "3             NaN  [  9.48026814  56.64494382 -24.37806359 -20.40...   \n",
       "4             NaN  [ 11.46150165  62.75133265  -9.68627457 -14.02...   \n",
       "\n",
       "   best_fitness  out_bounds  \n",
       "0    802.566248       35499  \n",
       "1    806.208811       26208  \n",
       "2    800.994959       17101  \n",
       "3    800.999562       48013  \n",
       "4    802.984877       36886  "
      ]
     },
     "execution_count": 39,
     "metadata": {},
     "output_type": "execute_result"
    }
   ],
   "source": [
    "df_variance"
   ]
  },
  {
   "cell_type": "code",
   "execution_count": 40,
   "metadata": {},
   "outputs": [
    {
     "data": {
      "text/plain": [
       "800.9949590570933"
      ]
     },
     "execution_count": 40,
     "metadata": {},
     "output_type": "execute_result"
    }
   ],
   "source": [
    "best = df_variance['best_fitness'].min()\n",
    "best"
   ]
  },
  {
   "cell_type": "code",
   "execution_count": 41,
   "metadata": {},
   "outputs": [
    {
     "data": {
      "text/plain": [
       "806.2088110929176"
      ]
     },
     "execution_count": 41,
     "metadata": {},
     "output_type": "execute_result"
    }
   ],
   "source": [
    "worst = df_variance['best_fitness'].max()\n",
    "worst"
   ]
  },
  {
   "cell_type": "code",
   "execution_count": 42,
   "metadata": {},
   "outputs": [
    {
     "data": {
      "text/plain": [
       "802.7508915422558"
      ]
     },
     "execution_count": 42,
     "metadata": {},
     "output_type": "execute_result"
    }
   ],
   "source": [
    "mean = df_variance['best_fitness'].mean()\n",
    "mean"
   ]
  },
  {
   "cell_type": "code",
   "execution_count": 43,
   "metadata": {},
   "outputs": [
    {
     "data": {
      "text/plain": [
       "2.13286803915862"
      ]
     },
     "execution_count": 43,
     "metadata": {},
     "output_type": "execute_result"
    }
   ],
   "source": [
    "std = df_variance['best_fitness'].std()\n",
    "std"
   ]
  },
  {
   "cell_type": "code",
   "execution_count": 44,
   "metadata": {},
   "outputs": [
    {
     "data": {
      "text/html": [
       "<div>\n",
       "<style scoped>\n",
       "    .dataframe tbody tr th:only-of-type {\n",
       "        vertical-align: middle;\n",
       "    }\n",
       "\n",
       "    .dataframe tbody tr th {\n",
       "        vertical-align: top;\n",
       "    }\n",
       "\n",
       "    .dataframe thead th {\n",
       "        text-align: right;\n",
       "    }\n",
       "</style>\n",
       "<table border=\"1\" class=\"dataframe\">\n",
       "  <thead>\n",
       "    <tr style=\"text-align: right;\">\n",
       "      <th></th>\n",
       "      <th>execucao</th>\n",
       "      <th>funcao_objetivo</th>\n",
       "      <th>is_rotated</th>\n",
       "      <th>dimensoes</th>\n",
       "      <th>tamanho_populacao</th>\n",
       "      <th>total_geracoes_realizadas</th>\n",
       "      <th>range_position</th>\n",
       "      <th>perc_mutation</th>\n",
       "      <th>perc_crossover</th>\n",
       "      <th>crossover_type</th>\n",
       "      <th>best_ind</th>\n",
       "      <th>best_fitness</th>\n",
       "      <th>out_bounds</th>\n",
       "    </tr>\n",
       "  </thead>\n",
       "  <tbody>\n",
       "    <tr>\n",
       "      <th>2</th>\n",
       "      <td>3</td>\n",
       "      <td>f8</td>\n",
       "      <td>True</td>\n",
       "      <td>10</td>\n",
       "      <td>10</td>\n",
       "      <td>10000</td>\n",
       "      <td>[-100, 100]</td>\n",
       "      <td>0.9</td>\n",
       "      <td>0.4</td>\n",
       "      <td>NaN</td>\n",
       "      <td>[  9.4452074   49.19032769 -32.16674182  -8.63...</td>\n",
       "      <td>800.994959</td>\n",
       "      <td>17101</td>\n",
       "    </tr>\n",
       "  </tbody>\n",
       "</table>\n",
       "</div>"
      ],
      "text/plain": [
       "   execucao funcao_objetivo  is_rotated  dimensoes  tamanho_populacao  \\\n",
       "2         3              f8        True         10                 10   \n",
       "\n",
       "   total_geracoes_realizadas range_position  perc_mutation  perc_crossover  \\\n",
       "2                      10000    [-100, 100]            0.9             0.4   \n",
       "\n",
       "   crossover_type                                           best_ind  \\\n",
       "2             NaN  [  9.4452074   49.19032769 -32.16674182  -8.63...   \n",
       "\n",
       "   best_fitness  out_bounds  \n",
       "2    800.994959       17101  "
      ]
     },
     "execution_count": 44,
     "metadata": {},
     "output_type": "execute_result"
    }
   ],
   "source": [
    "df_variance[df_variance['best_fitness'] == best]"
   ]
  },
  {
   "cell_type": "code",
   "execution_count": 45,
   "metadata": {},
   "outputs": [
    {
     "data": {
      "text/plain": [
       "32741.4"
      ]
     },
     "execution_count": 45,
     "metadata": {},
     "output_type": "execute_result"
    }
   ],
   "source": [
    "df_variance['out_bounds'].mean()"
   ]
  },
  {
   "cell_type": "code",
   "execution_count": null,
   "metadata": {},
   "outputs": [],
   "source": []
  }
 ],
 "metadata": {
  "kernelspec": {
   "display_name": "Python 3",
   "language": "python",
   "name": "python3"
  },
  "language_info": {
   "codemirror_mode": {
    "name": "ipython",
    "version": 3
   },
   "file_extension": ".py",
   "mimetype": "text/x-python",
   "name": "python",
   "nbconvert_exporter": "python",
   "pygments_lexer": "ipython3",
   "version": "3.9.1"
  },
  "orig_nbformat": 4
 },
 "nbformat": 4,
 "nbformat_minor": 2
}
